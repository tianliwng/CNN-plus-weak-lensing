{
 "cells": [
  {
   "cell_type": "code",
   "execution_count": 1,
   "metadata": {},
   "outputs": [
    {
     "name": "stderr",
     "output_type": "stream",
     "text": [
      "/opt/anaconda3/lib/python3.8/site-packages/lenstools/statistics/ensemble.py:943: FutureWarning: The Panel class is removed from pandas. Accessing it from the top-level namespace will also be removed in the next version\n",
      "  class Panel(pd.Panel):\n"
     ]
    }
   ],
   "source": [
    "import numpy as np\n",
    "from astropy.table import Table\n",
    "import matplotlib.pyplot as plt\n",
    "import matplotlib.patches as mpatches\n",
    "from scipy.interpolate import griddata\n",
    "from scipy import interpolate\n",
    "from scipy.stats.contingency import margins\n",
    "\n",
    "#The operations on convergence maps are handled with the ConvergenceMap class\n",
    "from lenstools import ConvergenceMap\n",
    "\n",
    "import time\n",
    "import os"
   ]
  },
  {
   "cell_type": "code",
   "execution_count": 2,
   "metadata": {},
   "outputs": [],
   "source": [
    "######################## define constants etc. ############################### \n",
    "\n",
    "workPath = '/n/holyscratch01/dvorkin_lab/Users/tianliwang/'\n",
    "mapPath = workPath+'maps_unzipped/'\n",
    "# workPath = '/Users/Ed/Desktop/cosm_prjt/'\n",
    "\n",
    "n_cosmo = 90\n",
    "n_imagespercosmo = 512  # number of images per cosmology \n",
    "\n",
    "# Om_d = 0.311\n",
    "# si_d = 0.789\n",
    "Om_d = 0.26\n",
    "si_d = 0.8\n",
    "\n",
    "# get the grid for interpolation \n",
    "ngrid = 300\n",
    "xi = np.linspace(0.18, 0.7, ngrid)\n",
    "yi = np.linspace(0.2, 1.2, ngrid)\n",
    "Xi, Yi = np.array(np.meshgrid(xi, yi))\n",
    "grid = np.array([np.ndarray.flatten(Xi), np.ndarray.flatten(Yi)]).T\n",
    "\n",
    "l_edges = np.logspace(np.log10(100.0), np.log10(3.75e4), 21)\n",
    "contour_intervals = np.array([0.95, 0.680, 0.01])    # percentage contour levels \n",
    "n_integralsteps = 1000   # interpolation steps in the integral for contours "
   ]
  },
  {
   "cell_type": "code",
   "execution_count": 3,
   "metadata": {},
   "outputs": [],
   "source": [
    "def read_parametersfromfile(path):\n",
    "    '''\n",
    "    Input: string for the directory to the folders of cosmology \n",
    "    \n",
    "    Function: reads the Omega_m and sigma_8 values from the folder names in \n",
    "    the path directory and store them as arrays of strings. Stores the values \n",
    "    as strings to avoid rounding, for example, 0.600 to 0.6. \n",
    "    \n",
    "    Output: (array of strings of Omega_m, array of strings of sigma_8)\n",
    "    '''\n",
    "    \n",
    "    Om_strings = [] \n",
    "    si_strings = []\n",
    "    \n",
    "    for filename in os.listdir(path):\n",
    "        if (filename.startswith('Om') and not filename.endswith('.gz')): \n",
    "            Om_strings.append(filename[2:7]) \n",
    "            si_strings.append(filename[10:15])\n",
    "            \n",
    "    return Om_strings, si_strings\n",
    "\n",
    "\n",
    "def get_pls(path, Om, si, l_edges, i_start, i_end):\n",
    "    '''\n",
    "    Input: path to the maps (string), omegam and sigma8 value for the maps (floats), \n",
    "    l edges for power spectrum (array), start index and end index for reading the images (ints)\n",
    "    \n",
    "    Function: get the power spectra for all the maps using ConvergenceMap in LensTools with the \n",
    "    input l_edges \n",
    "    \n",
    "    Output: l, matrix of power spectra of dimension (i_end+1-i_start)x(l_edges-1) (each row for one map)\n",
    "    \n",
    "    '''\n",
    "    \n",
    "    Pls = [] \n",
    "    \n",
    "    for i in range(i_start, i_end+1): \n",
    "        if (i < 10): filenum = '00{}'.format(i)\n",
    "        elif (i < 100): filenum = '0{}'.format(i)\n",
    "        else: filenum = i \n",
    "        \n",
    "        map_filename = '{}Om{}_si{}/WLconv_z1.00_0{}r.fits'.format(path, Om, si, filenum)\n",
    "        conv_map = ConvergenceMap.load(map_filename)\n",
    "        \n",
    "        # Measure the power spectrum calling the powerSpectrum method\n",
    "        l, Pl = conv_map.powerSpectrum(l_edges)\n",
    "        \n",
    "        Pls.append(Pl)\n",
    "        \n",
    "    return l, Pls\n",
    "\n",
    "def get_pcs(path, Om, si, n_bins, i_start, i_end):\n",
    "    '''\n",
    "    Input: path to the maps (string), omegam and sigma8 value for the maps (floats), \n",
    "    # bins for peak counts (int), start index and end index for reading the images (ints)\n",
    "    \n",
    "    Function: get the peak counts for all the maps using ConvergenceMap in LensTools with the \n",
    "    input n_bins \n",
    "    \n",
    "    Output: matrix of peak counts of dimension (i_end+1-i_start)x(n_bins-1) (each row for one map)\n",
    "    \n",
    "    '''\n",
    "    \n",
    "    peakcounts = [] \n",
    "    \n",
    "    for i in range(i_start, i_end+1): \n",
    "        if (i < 10): filenum = '00{}'.format(i)\n",
    "        elif (i < 100): filenum = '0{}'.format(i)\n",
    "        else: filenum = i \n",
    "        \n",
    "        map_filename = '{}Om{}_si{}/WLconv_z1.00_0{}r.fits'.format(path, Om, si, filenum)\n",
    "        conv_map = ConvergenceMap.load(map_filename)\n",
    "        \n",
    "        # Measure the peak count by calling methods in ConvegenceMap \n",
    "        std = conv_map.std()\n",
    "        thresholds = np.linspace(conv_map.data.min()/std, conv_map.data.max()/std, n_bins)\n",
    "        nu, peaks = conv_map.peakCount(thresholds, True)\n",
    "        \n",
    "        peakcounts.append(peaks)\n",
    "        \n",
    "    return peakcounts\n",
    "\n",
    "\n",
    "def get_p(Pls, d): \n",
    "    '''\n",
    "    Input: matrix of power spectra of dimension (# maps)x(n_lbins) and the \n",
    "    discriptor array (mean power spec of one chosen cosmo)\n",
    "    \n",
    "    Function: calculates the posterior value for the given d \n",
    "    \n",
    "    Output: scalar probability \n",
    "    '''\n",
    "    \n",
    "    N = len(Pls)    # number of maps \n",
    "    \n",
    "    mu = np.mean(Pls, axis=0)\n",
    "    assert len(mu) == len(Pls[0])   # check if taking mean along correct dimension \n",
    "    \n",
    "    cov = np.cov(np.array(Pls).T)\n",
    "    covinv = np.linalg.inv(cov)\n",
    "    covinv = (N-len(mu)-2)/(N-1) * covinv  # debias the cov inverse \n",
    "    \n",
    "    exponent = -0.5*np.dot(d-mu, np.dot(covinv, d-mu))\n",
    "    \n",
    "    return np.exp(exponent)\n",
    "\n",
    "\n",
    "def get_interpstats(origdata, origpoints, grid_interp, if_getcovdet): \n",
    "    '''\n",
    "    Input: \n",
    "    origdata: ndarray with shape (# points in parameter space)x(# measurements per point)x(# variables per measurement)\n",
    "    origpoints: ndarray with shape (# points in parameter space)x(# axese)\n",
    "    grid_interp: ndarray with each row being a coordinate tuple for one point in parameter space (n,)\n",
    "    if_getcovdet: boolean for whether to return cov matrix determinants \n",
    "    \n",
    "    Function: Linearly interpolate the means and unbiased inverse covariance matrices for each point specified in \n",
    "    grid_interp through the griddata function using measurements provided by origdata, which are data \n",
    "    at points in parameter space specified by origpoints. \n",
    "    \n",
    "    Output: interpolated means, interpolated inverse covaraince matrices, (interpolated cov determinants) each of \n",
    "    dimension (m,)\n",
    "    '''\n",
    "    \n",
    "    assert len(origdata) == len(origpoints), 'dimension of origdata does not match dimension of origpoints'\n",
    "    \n",
    "    # get dimensions of input data\n",
    "    N_data = len(origdata)\n",
    "    N_measurements = len(origdata[0])\n",
    "    N_vars = len(origdata[0][0])\n",
    "    \n",
    "    # take the mean of all measurements of each point \n",
    "    mus = np.mean(origdata, axis=1) \n",
    "    \n",
    "    if (if_getcovdet): cov_list = []\n",
    "    covinv_list = []\n",
    "    \n",
    "    # calculate the cov matrices \n",
    "    for i in range(N_data): \n",
    "        cov = np.cov(origdata[i].T)\n",
    "        if (if_getcovdet): cov_list.append(cov)\n",
    "        covinv = np.linalg.pinv(cov)*(N_measurements-N_vars-2)/(N_measurements-1)   # debias cov inverse; using pinv \n",
    "        covinv_list.append(covinv)\n",
    "        \n",
    "    # linear interpolation \n",
    "    mus_interp = griddata(origpoints, mus, grid_interp, method='linear')\n",
    "    covinvs_interp = griddata(origpoints, covinv_list, grid_interp, method='linear')\n",
    "    \n",
    "    if (if_getcovdet): \n",
    "        covdets = np.linalg.det(cov_list)\n",
    "        covdets_interp = griddata(origpoints, covdets, grid_interp, method='linear')\n",
    "        return mus_interp, covinvs_interp, covdets_interp\n",
    "    \n",
    "    return mus_interp, covinvs_interp \n",
    "\n",
    "\n",
    "def get_Ps(mus, covinvs, d, *args): \n",
    "    '''\n",
    "    Input: \n",
    "    mus: ndarray of means of shape (n, m); n is the number of points in parameter space \n",
    "    covinvs: ndarray of covariance inverses (n, m, m)\n",
    "    d: ndarry of the mean at descriptor point in parameter space of shape (m,)\n",
    "    *args: optional argument of cov determinants \n",
    "    \n",
    "    Function: calculates the normalized Gaussian probabilities for the ith point in parameter \n",
    "    space using mus[i] and covinv[i], the descriptor d and optional array of cov \n",
    "    determinants (shape (n,)) in *args \n",
    "    \n",
    "    Output: 1D array of probabilities of shape (n,)\n",
    "    '''\n",
    "    \n",
    "    assert len(mus) == len(covinvs), 'dimensions of mus and covinvs do not match in axis=0'\n",
    "    assert len(mus[0]) == len(covinvs[0]), 'dimensions of mus and covinvs do not match in axis=1'\n",
    "    assert len(args) < 2, 'expecting only 1 optional argument'\n",
    "    \n",
    "    if (args): covdets = args[0]\n",
    "    \n",
    "    # get the exponents \n",
    "    exponents = [] \n",
    "\n",
    "    for i in range(len(mus)): \n",
    "        vec_temp = d - mus[i]\n",
    "        exponents.append(-0.5*np.dot(vec_temp, np.dot(covinvs[i],vec_temp.T))) \n",
    "    \n",
    "    # calculate the probabilities \n",
    "    if (args): Ps = 1.0/(covdets**0.5)*np.exp(exponents)\n",
    "    else: Ps = np.exp(exponents)\n",
    "        \n",
    "    # mask the nan values with 0 \n",
    "    Ps[np.isnan(Ps)] = 0\n",
    "        \n",
    "    # normalize\n",
    "    norm_factor = np.sum(Ps)\n",
    "    Ps = Ps/norm_factor\n",
    "    \n",
    "    return Ps \n",
    "\n",
    "\n",
    "def get_contours(Ps, intervals, n):\n",
    "    '''\n",
    "    Input: \n",
    "    Ps: 1D array of probabilities \n",
    "    intervals: 1D array of the percentages for which to calculate the contours \n",
    "    n (integer): # bins to integrate the Ps over \n",
    "    \n",
    "    Output: array of probabilities at which to draw the contours corresponding to the percentages in intervals; \n",
    "    has the same shape as intervals. \n",
    "    '''\n",
    "    \n",
    "    assert np.max(Ps) <= 1.0, 'Probabilities > 1 and may be unnormalized'\n",
    "    \n",
    "    t = np.linspace(0, np.max(Ps), n)  # intervals for doing the integrals \n",
    "    integrals = ((Ps >= t[:, None, None]) * Ps).sum(axis=(1,2))\n",
    "\n",
    "    f = interpolate.interp1d(integrals, t)\n",
    "    t_contours = f(intervals)\n",
    "    \n",
    "    return t_contours "
   ]
  },
  {
   "cell_type": "markdown",
   "metadata": {},
   "source": [
    "## Load and process data for CNN "
   ]
  },
  {
   "cell_type": "code",
   "execution_count": 4,
   "metadata": {},
   "outputs": [],
   "source": [
    "data_cnn = np.genfromtxt(workPath+'fullNet_testing_shuffle.dat', names=True, dtype=None)\n",
    "\n",
    "Om_pred = data_cnn['Om_pred']\n",
    "si_pred = data_cnn['si_pred']\n",
    "Om_expect = data_cnn['Om_expect']\n",
    "si_expect = data_cnn['si_expect']\n",
    "\n",
    "# list of Oms and sis of our data \n",
    "Oms_list = Om_expect[::len(Om_expect)//n_cosmo]\n",
    "sis_list = si_expect[::len(Om_expect)//n_cosmo]"
   ]
  },
  {
   "cell_type": "code",
   "execution_count": 5,
   "metadata": {},
   "outputs": [],
   "source": [
    "# prepare data \n",
    "d_cnn = np.array([Om_d, si_d])\n",
    "origdata_cnn = np.reshape(np.array([Om_pred, si_pred]).T, (n_cosmo, 128, -1))\n",
    "points_cnn = np.array([Oms_list, sis_list]).T\n",
    "\n",
    "# get the statistics \n",
    "mus_cnn, covinvs_cnn, covdets_cnn = get_interpstats(origdata_cnn, points_cnn, grid, True)\n",
    "Ps_cnn = get_Ps(mus_cnn, covinvs_cnn, d_cnn, covdets_cnn)\n",
    "contours_cnn = get_contours(Ps_cnn, contour_intervals, n_integralsteps)"
   ]
  },
  {
   "cell_type": "markdown",
   "metadata": {},
   "source": [
    "## Load and process data for power spectrum"
   ]
  },
  {
   "cell_type": "code",
   "execution_count": 6,
   "metadata": {},
   "outputs": [],
   "source": [
    "data_spec = np.load(workPath+'spectra.npy').astype(np.float)"
   ]
  },
  {
   "cell_type": "code",
   "execution_count": 7,
   "metadata": {},
   "outputs": [],
   "source": [
    "# prepare data   \n",
    "origdata_spec = np.reshape(data_spec[2:, :].T, (n_cosmo, n_imagespercosmo, -1))\n",
    "points_spec = data_spec[:2].T\n",
    "# find the index for the chosen center Om and si \n",
    "condition = (points_spec[:,0] == d_cnn[0])*(points_spec[:,1] == d_cnn[1])\n",
    "d_index = np.where(condition)[0][0]\n",
    "d_spec = np.mean(origdata_spec[d_index], axis=0) \n",
    "\n",
    "# exclude the cosmo with d_index\n",
    "origdata_spec_no_d = np.array([origdata_spec[i] for i in range(n_cosmo) if i!=d_index])\n",
    "points_spec_no_d = np.array([points_spec[i] for i in range(n_cosmo) if i!=d_index])\n",
    "\n",
    "# get the statistics \n",
    "mus_spec, covinvs_spec = get_interpstats(origdata_spec_no_d, points_spec_no_d, grid, False)\n",
    "# mus_spec, covinvs_spec = get_interpstats(origdata_spec, points_spec, grid, False)\n",
    "Ps_spec = get_Ps(mus_spec, covinvs_spec, d_spec)\n",
    "contours_spec = get_contours(Ps_spec, contour_intervals, 1000)"
   ]
  },
  {
   "cell_type": "markdown",
   "metadata": {},
   "source": [
    "## Load and process data for peak count"
   ]
  },
  {
   "cell_type": "code",
   "execution_count": 8,
   "metadata": {},
   "outputs": [],
   "source": [
    "data_peak = np.load(workPath+'peakcounts_fixedrange_2.npy').astype(np.float)"
   ]
  },
  {
   "cell_type": "code",
   "execution_count": 9,
   "metadata": {},
   "outputs": [],
   "source": [
    "# prepare data   \n",
    "origdata_peak = np.reshape(data_peak[2:, :].T, (n_cosmo, n_imagespercosmo, -1))\n",
    "points_peak = data_peak[:2].T\n",
    "# find the index for the chosen center Om and si \n",
    "condition_peak = (points_peak[:,0] == d_cnn[0])*(points_peak[:,1] == d_cnn[1])\n",
    "d_index_peak = np.where(condition_peak)[0][0]\n",
    "d_peak = np.mean(origdata_peak[d_index_peak], axis=0) \n",
    "\n",
    "# exclude the cosmo with d_index\n",
    "origdata_peak_no_d = np.array([origdata_peak[i] for i in range(n_cosmo) if i!=d_index_peak])\n",
    "points_peak_no_d = np.array([points_peak[i] for i in range(n_cosmo) if i!=d_index_peak])\n",
    "\n",
    "# get the statistics \n",
    "mus_peak, covinvs_peak = get_interpstats(origdata_peak_no_d, points_peak_no_d, grid, False)\n",
    "Ps_peak = get_Ps(mus_peak, covinvs_peak, d_peak) # still using diff cov, not the one from the fiducial cosmo for all Ps\n",
    "contours_peak = get_contours(Ps_peak, contour_intervals, 1000)"
   ]
  },
  {
   "cell_type": "markdown",
   "metadata": {},
   "source": [
    "## Contour and marginal plot"
   ]
  },
  {
   "cell_type": "code",
   "execution_count": 17,
   "metadata": {},
   "outputs": [
    {
     "data": {
      "text/plain": [
       "<matplotlib.legend.Legend at 0x7fdf2fa98880>"
      ]
     },
     "execution_count": 17,
     "metadata": {},
     "output_type": "execute_result"
    },
    {
     "data": {
      "image/png": "[encoded data removed]",
      "text/plain": [
       "<Figure size 576x576 with 1 Axes>"
      ]
     },
     "metadata": {
      "needs_background": "light"
     },
     "output_type": "display_data"
    }
   ],
   "source": [
    "o_min = 0.18\n",
    "o_max = 0.5 \n",
    "s_min = 0.55\n",
    "s_max = 1.15\n",
    "fig = plt.figure(figsize=[8,8])\n",
    "plt.contourf(xi, yi, np.reshape(Ps_spec, (ngrid, ngrid)), contours_spec, colors=['#F4BAA5', '#E6605A'], alpha=0.7)\n",
    "plt.contourf(xi, yi, np.reshape(Ps_peak, (ngrid, ngrid)), contours_peak, colors=['#7fc263', '#287904'], alpha=0.7)\n",
    "plt.contourf(xi, yi, np.reshape(Ps_cnn, (ngrid, ngrid)), contours_cnn, colors=['#93BABA', '#4286A0'], alpha=0.5)\n",
    "plt.scatter(d_cnn[0], d_cnn[1], color='black')\n",
    "plt.scatter(Oms_list, sis_list, marker='x', color='black', s=10)\n",
    "plt.xlim(o_min, o_max)\n",
    "plt.ylim(s_min, s_max)\n",
    "plt.xlabel(r'$\\Omega_m$', fontsize=16)\n",
    "plt.ylabel(r'$\\sigma_8$', fontsize=16)\n",
    "\n",
    "leg_spec = mpatches.Patch(color='#E6605A', label='Power Spectrum')\n",
    "leg_peak = mpatches.Patch(color='#34a003', label='Peak Count')\n",
    "leg_net =  mpatches.Patch(color='#4286A0', label='CNN')\n",
    "plt.legend(handles=[leg_spec, leg_peak, leg_net], fontsize=14)"
   ]
  },
  {
   "cell_type": "code",
   "execution_count": 18,
   "metadata": {},
   "outputs": [],
   "source": [
    "# get the marginal distributions \n",
    "simarginal_cnn, Ommarginal_cnn = margins(np.reshape(Ps_cnn, (ngrid, ngrid)))\n",
    "simarginal_spec, Ommarginal_spec = margins(np.reshape(Ps_spec, (ngrid, ngrid)))\n",
    "simarginal_peak, Ommarginal_peak = margins(np.reshape(Ps_peak, (ngrid, ngrid)))"
   ]
  },
  {
   "cell_type": "code",
   "execution_count": 19,
   "metadata": {},
   "outputs": [
    {
     "data": {
      "text/plain": [
       "<matplotlib.legend.Legend at 0x7fde85b36370>"
      ]
     },
     "execution_count": 19,
     "metadata": {},
     "output_type": "execute_result"
    },
    {
     "data": {
      "image/png": "[encoded data removed]",
      "text/plain": [
       "<Figure size 1152x432 with 2 Axes>"
      ]
     },
     "metadata": {
      "needs_background": "light"
     },
     "output_type": "display_data"
    }
   ],
   "source": [
    "f = plt.figure(figsize=(16,6))\n",
    "ax1 = f.add_subplot(1,2,1)\n",
    "ax2 = f.add_subplot(1,2,2)\n",
    "\n",
    "ax1.plot(yi, simarginal_spec, label='Power Spectrum', color='#E6605A')\n",
    "ax1.plot(yi, simarginal_peak, label='Peak Count', color='#7fc263')\n",
    "ax1.plot(yi, simarginal_cnn, label='CNN', color='#4286A0')\n",
    "ax1.set_xlabel(r'$\\sigma_8$', fontsize=16)\n",
    "ax1.set_xlim(s_min, s_max)\n",
    "ax1.legend(fontsize=16)\n",
    "\n",
    "ax2.plot(xi, Ommarginal_spec[0], label='Power Spectrum', color='#E6605A')\n",
    "ax2.plot(xi, Ommarginal_peak[0], label='Peak Count', color='#7fc263')\n",
    "ax2.plot(xi, Ommarginal_cnn[0], label='CNN', color='#4286A0')\n",
    "ax2.set_xlabel(r'$\\Omega_m$', fontsize=16)\n",
    "ax2.set_xlim(o_min, o_max)\n",
    "ax2.legend(fontsize=16)"
   ]
  },
  {
   "cell_type": "markdown",
   "metadata": {},
   "source": [
    "## Calculate and save peak count"
   ]
  },
  {
   "cell_type": "code",
   "execution_count": null,
   "metadata": {},
   "outputs": [],
   "source": [
    "## Calculate and save peak countmapPath = workPath+'maps_unzipped/'\n",
    "Oms_all, sis_all = read_parametersfromfile(mapPath)\n",
    "Oms = Oms_all[:n_cosmo]\n",
    "sis = sis_all[:n_cosmo]\n",
    "\n",
    "peaks = []\n",
    "\n",
    "for i in range(n_cosmo): \n",
    "    pcs = get_pcs(mapPath, Oms[i], sis[i], 21, 1, n_imagespercosmo)\n",
    "    flatpcs = np.ndarray.flatten(np.array(pcs))\n",
    "    peaks = peaks + flatpcs.tolist()\n",
    "    \n",
    "peaks = np.reshape(peaks, (n_cosmo, -1)).T\n",
    "peaksWithLabels = np.concatenate(([np.array(Oms), np.array(sis)], peaks), axis=0)\n",
    "\n",
    "#np.save(workPath+'peakcounts.npy', peaksWithLabels)"
   ]
  }
 ],
 "metadata": {
  "kernelspec": {
   "display_name": "Python 3",
   "language": "python",
   "name": "python3"
  },
  "language_info": {
   "codemirror_mode": {
    "name": "ipython",
    "version": 3
   },
   "file_extension": ".py",
   "mimetype": "text/x-python",
   "name": "python",
   "nbconvert_exporter": "python",
   "pygments_lexer": "ipython3",
   "version": "3.8.3"
  }
 },
 "nbformat": 4,
 "nbformat_minor": 4
}
