{
 "cells": [
  {
   "cell_type": "code",
   "execution_count": null,
   "metadata": {},
   "outputs": [],
   "source": [
    "import numpy as np\n",
    "\n",
    "#The operations on convergence maps are handled with the ConvergenceMap class\n",
    "from lenstools import ConvergenceMap\n",
    "\n",
    "import time\n",
    "import os"
   ]
  },
  {
   "cell_type": "code",
   "execution_count": null,
   "metadata": {},
   "outputs": [],
   "source": [
    "######################## define constants etc. ############################### \n",
    "\n",
    "workPath = '/n/holyscratch01/dvorkin_lab/Users/tianliwang/'\n",
    "mapPath = workPath+'maps_unzipped/'\n",
    "\n",
    "n_cosmo = 2\n",
    "n_imagespercosmo = 512  # number of images per cosmology \n",
    "\n",
    "Om_d = 0.311\n",
    "si_d = 0.789\n",
    "\n",
    "l_edges = np.logspace(np.log10(100.0), np.log10(3.75e4), 21)"
   ]
  },
  {
   "cell_type": "code",
   "execution_count": null,
   "metadata": {},
   "outputs": [],
   "source": [
    "def read_parametersfromfile(path):\n",
    "    '''\n",
    "    Input: string for the directory to the folders of cosmology \n",
    "    \n",
    "    Function: reads the Omega_m and sigma_8 values from the folder names in \n",
    "    the path directory and store them as arrays of strings. Stores the values \n",
    "    as strings to avoid rounding, for example, 0.600 to 0.6. \n",
    "    \n",
    "    Output: (array of strings of Omega_m, array of strings of sigma_8)\n",
    "    '''\n",
    "    \n",
    "    Om_strings = [] \n",
    "    si_strings = []\n",
    "    \n",
    "    for filename in os.listdir(path):\n",
    "        if (filename.startswith('Om') and not filename.endswith('.gz')): \n",
    "            Om_strings.append(filename[2:7]) \n",
    "            si_strings.append(filename[10:15])\n",
    "            \n",
    "    return Om_strings, si_strings\n",
    "\n",
    "\n",
    "def get_pls(path, Om, si, l_edges, i_start, i_end):\n",
    "    '''\n",
    "    Input: path to the maps (string), omegam and sigma8 value for the maps (floats), \n",
    "    l edges for power spectrum (array), start index and end index for reading the images (ints)\n",
    "    \n",
    "    Function: get the power spectra for all the maps using ConvergenceMap in LensTools with the \n",
    "    input l_edges \n",
    "    \n",
    "    Output: l, matrix of power spectra of dimension (i_end+1-i_start)x(l_edges-1) (each row for one map)\n",
    "    \n",
    "    '''\n",
    "    \n",
    "    Pls = [] \n",
    "    \n",
    "    for i in range(i_start, i_end+1): \n",
    "        if (i < 10): filenum = '00{}'.format(i)\n",
    "        elif (i < 100): filenum = '0{}'.format(i)\n",
    "        else: filenum = i \n",
    "        \n",
    "        map_filename = '{}Om{}_si{}/WLconv_z1.00_0{}r.fits'.format(path, Om, si, filenum)\n",
    "        conv_map = ConvergenceMap.load(map_filename)\n",
    "        \n",
    "        # Measure the power spectrum calling the powerSpectrum method\n",
    "        l, Pl = conv_map.powerSpectrum(l_edges)\n",
    "        \n",
    "        Pls.append(Pl)\n",
    "        \n",
    "    return l, Pls\n",
    "\n",
    "\n",
    "def get_p(Pls, d): \n",
    "    '''\n",
    "    Input: matrix of power spectra of dimension (# maps)x(n_lbins) and the \n",
    "    discriptor array (mean power spec of one chosen cosmo)\n",
    "    \n",
    "    Function: calculates the posterior value for \n",
    "    '''\n",
    "    \n",
    "    N = len(Pls)    # number of maps \n",
    "    \n",
    "    mu = np.mean(Pls, axis=0)\n",
    "    assert len(mu) == len(Pls[0])   # check if taking mean along correct dimension \n",
    "    \n",
    "    cov = np.cov(np.array(Pls).T)\n",
    "    covinv = np.linalg.inv(cov)\n",
    "    covinv = (N-len(mu)-2)/(N-1) * covinv  # debias the cov inverse \n",
    "    \n",
    "    exponent = -0.5*np.dot(d-mu, np.dot(covinv, d-mu))\n",
    "    \n",
    "    return np.exp(exponent)"
   ]
  },
  {
   "cell_type": "code",
   "execution_count": null,
   "metadata": {},
   "outputs": [],
   "source": [
    "Oms_all, sis_all = read_parametersfromfile(mapPath)\n",
    "Oms = Oms_all[:n_cosmo]\n",
    "sis = sis_all[:n_cosmo]"
   ]
  },
  {
   "cell_type": "code",
   "execution_count": null,
   "metadata": {},
   "outputs": [],
   "source": [
    "# some testing\n",
    "\n",
    "# get the mean of the cosmo chosen for d \n",
    "_, Pls_d = get_pls(mapPath, Om_d, si_d, l_edges, 1, n_imagespercosmo)\n",
    "mu_d = np.mean(Pls_d, axis=0)\n",
    "\n",
    "# test on a few cosmos \n",
    "for i in range(n_cosmo): \n",
    "    l, Pls = get_pls(mapPath, Oms[i], sis[i], l_edges, 1, n_imagespercosmo)\n",
    "    \n",
    "    p = get_p(Pls, mu_d)\n",
    "    print(p)"
   ]
  },
  {
   "cell_type": "code",
   "execution_count": null,
   "metadata": {},
   "outputs": [],
   "source": [
    "# calculate and save spectra, each cosmo in one column, with Om and si in the first two rows\n",
    "## I guess we don't need to save l here?\n",
    "\n",
    "spectra = []\n",
    "\n",
    "for i in range(n_cosmo): \n",
    "    l, Pls = get_pls(mapPath, Oms[i], sis[i], l_edges, 1, n_imagespercosmo)\n",
    "#    Pls = (i+1) * np.ones((n_imagespercosmo, len(l_edges)-1))  # for testing without lenstools; use the line above!\n",
    "    flatPls = np.ndarray.flatten(Pls)\n",
    "    spectra = spectra + flatPls.tolist()\n",
    "\n",
    "spectra = np.reshape(spectra, (n_cosmo, -1)).T\n",
    "spectraWithLabels = np.concatenate(([np.array(Oms), np.array(sis)], spectra), axis=0)  # append list of Oms and sis to the spectra array\n",
    "\n",
    "np.save(workPath+'spectra.npy', spectraWithLabels)"
   ]
  },
  {
   "cell_type": "code",
   "execution_count": null,
   "metadata": {},
   "outputs": [],
   "source": [
    "# check dimenstions of arrays\n",
    "print(spectra.shape)\n",
    "print(spectraWithLabels.shape)"
   ]
  }
 ],
 "metadata": {
  "kernelspec": {
   "display_name": "Python 3",
   "language": "python",
   "name": "python3"
  },
  "language_info": {
   "codemirror_mode": {
    "name": "ipython",
    "version": 3
   },
   "file_extension": ".py",
   "mimetype": "text/x-python",
   "name": "python",
   "nbconvert_exporter": "python",
   "pygments_lexer": "ipython3",
   "version": "3.8.3"
  }
 },
 "nbformat": 4,
 "nbformat_minor": 4
}
