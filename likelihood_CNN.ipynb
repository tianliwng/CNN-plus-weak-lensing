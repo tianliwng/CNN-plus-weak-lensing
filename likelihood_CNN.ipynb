{
 "cells": [
  {
   "cell_type": "code",
   "execution_count": 1,
   "metadata": {},
   "outputs": [],
   "source": [
    "from astropy.table import Table\n",
    "import numpy as np\n",
    "import matplotlib.pyplot as plt\n",
    "from scipy.stats import multivariate_normal\n",
    "import matplotlib.tri as tri\n",
    "from scipy.interpolate import griddata\n",
    "from scipy import interpolate"
   ]
  },
  {
   "cell_type": "code",
   "execution_count": 11,
   "metadata": {},
   "outputs": [],
   "source": [
    "######################## define constants etc. ############################### \n",
    "\n",
    "workPath = '/n/holyscratch01/dvorkin_lab/Users/tianliwang/'\n",
    "#workPath = '/Users/Ed/Desktop/cosm_prjt/'\n",
    "\n",
    "n_cosmo = 90\n",
    "\n",
    "Om_d = 0.311  # this is one of the cosmos we used for training and predictions\n",
    "si_d = 0.789\n",
    "\n",
    "# params for interpolation \n",
    "ngrid = 300            # size of grid for interpolating mus and covs \n",
    "xi = np.linspace(0.15, 0.5, ngrid)\n",
    "yi = np.linspace(0.55, 1.15, ngrid)\n",
    "n_intstep = 1000      # contour interpolation steps for integral of Ps "
   ]
  },
  {
   "cell_type": "code",
   "execution_count": 6,
   "metadata": {},
   "outputs": [],
   "source": [
    "data = np.genfromtxt(workPath+'fullNet_testing_shuffle.dat', names=True, dtype=None)"
   ]
  },
  {
   "cell_type": "code",
   "execution_count": 7,
   "metadata": {},
   "outputs": [],
   "source": [
    "Om_pred = data['Om_pred']\n",
    "si_pred = data['si_pred']\n",
    "Om_expect = data['Om_expect']\n",
    "si_expect = data['si_expect']\n",
    "\n",
    "# split the array into small arrays each corresponding the data from one cosmology (ex. array[0] is an array of all values in one cosmo)\n",
    "Om_expect_split = np.array_split(Om_expect, n_cosmo)\n",
    "Om_pred_split = np.array_split(Om_pred, n_cosmo)\n",
    "si_expect_split = np.array_split(si_expect, n_cosmo)\n",
    "si_pred_split = np.array_split(si_pred, n_cosmo)"
   ]
  },
  {
   "cell_type": "code",
   "execution_count": 8,
   "metadata": {},
   "outputs": [],
   "source": [
    "######################## calculate P(d|theta) for the network predictions ###############################\n",
    "cov_list = [] \n",
    "covinv_list = []\n",
    "\n",
    "# calculate cov matrices and put in cov_list and the inverse martices into covinv_list; \n",
    "# cov_list[i] is the cov matrix of the (i+1)-th cosmo\n",
    "for i in range(n_cosmo): \n",
    "    cov = np.cov([Om_pred_split[i], si_pred_split[i]])\n",
    "    cov_list.append(cov)\n",
    "    covinv_list.append(np.linalg.inv(cov))\n",
    "    \n",
    "cov_list = np.array(cov_list)\n",
    "covinv_list = (len(Om_pred_split[0])-2-2)/(len(Om_pred_split[0])-1)*np.array(covinv_list)  # de-bias the inverse cov matrix\n",
    "\n",
    "# get determinants of cov matrices \n",
    "covdet_list = np.linalg.det(cov_list)\n",
    "\n",
    "\n",
    "# calculate mean and put in mean_list; mean_list[i] is the mean [Om, si] of the (i+1)-th cosmo\n",
    "Om_mean_list = np.mean(Om_pred_split, axis=1)\n",
    "si_mean_list = np.mean(si_pred_split, axis=1)\n",
    "mean_list = np.transpose([Om_mean_list, si_mean_list])\n",
    "\n",
    "# true omegas and sigmas for each simulation \n",
    "Om_expect_list = np.array(Om_expect_split)[:,0]\n",
    "si_expect_list = np.array(si_expect_split)[:,0]\n",
    "\n",
    "# calculate P at each point (Om, si)\n",
    "d = np.array([Om_d, si_d])\n",
    "P = [multivariate_normal.pdf(mean_list[i], mean = d, cov = cov_list[i]) for i in range(n_cosmo)]\n",
    "P = np.array(P)"
   ]
  },
  {
   "cell_type": "code",
   "execution_count": 9,
   "metadata": {},
   "outputs": [],
   "source": [
    "# Linear interpolation on a grid defined by (xi, yi)\n",
    "triang = tri.Triangulation(mean_list[:,0], mean_list[:,1])\n",
    "interpolator = tri.LinearTriInterpolator(triang, P)\n",
    "Xi, Yi = np.meshgrid(xi, yi)\n",
    "Pi = interpolator(Xi, Yi)"
   ]
  },
  {
   "cell_type": "code",
   "execution_count": 10,
   "metadata": {},
   "outputs": [
    {
     "data": {
      "text/plain": [
       "<matplotlib.contour.QuadContourSet at 0x2ab6cf903110>"
      ]
     },
     "execution_count": 10,
     "metadata": {},
     "output_type": "execute_result"
    },
    {
     "data": {
      "image/png": "[encoded data removed]",
      "text/plain": [
       "<Figure size 432x288 with 1 Axes>"
      ]
     },
     "metadata": {
      "needs_background": "light"
     },
     "output_type": "display_data"
    }
   ],
   "source": [
    "plt.scatter(Om_expect_list, si_expect_list, marker='*')\n",
    "plt.contour(xi, yi, Pi, levels=15)\n",
    "#plt.plot(Om_expect_split, si_expect_split,'.')"
   ]
  },
  {
   "cell_type": "code",
   "execution_count": 12,
   "metadata": {},
   "outputs": [],
   "source": [
    "#### Another method (linear interpolation)\n",
    "\n",
    "# define inputs for griddata function calls \n",
    "points = np.array([Om_mean_list, si_mean_list]).T    # dimension: # grid pts X # axese \n",
    "Xi, Yi = np.array(np.meshgrid(xi, yi))\n",
    "grid = np.array([np.ndarray.flatten(Xi), np.ndarray.flatten(Yi)]).T"
   ]
  },
  {
   "cell_type": "code",
   "execution_count": 13,
   "metadata": {},
   "outputs": [],
   "source": [
    "# interpolation quantities \n",
    "Oms_interp = griddata(points, Om_mean_list, grid, method='linear')\n",
    "sis_interp = griddata(points, si_mean_list, grid, method='linear')\n",
    "covdet_interp = griddata(points, covdet_list, grid, method='linear')\n",
    "covinv_interp = griddata(points, covinv_list, grid, method='linear')"
   ]
  },
  {
   "cell_type": "code",
   "execution_count": 14,
   "metadata": {},
   "outputs": [],
   "source": [
    "# calculate the Ps from interpolated values \n",
    "means_interp = np.transpose([Oms_interp, sis_interp])\n",
    "\n",
    "# get the exponents in the Ps\n",
    "exponents = [] \n",
    "\n",
    "for i in range(len(means_interp)): \n",
    "    vec_temp = d - means_interp[i]\n",
    "    exponents.append(-0.5*np.dot(vec_temp, np.dot(covinv_interp[i],vec_temp.T))) \n",
    "    \n",
    "Ps_interp = 1.0/(covdet_interp**0.5)*np.exp(exponents)   # the prob distribution "
   ]
  },
  {
   "cell_type": "code",
   "execution_count": 15,
   "metadata": {
    "scrolled": true
   },
   "outputs": [
    {
     "data": {
      "text/plain": [
       "(0.5, 1.2)"
      ]
     },
     "execution_count": 15,
     "metadata": {},
     "output_type": "execute_result"
    },
    {
     "data": {
      "image/png": "[encoded data removed]",
      "text/plain": [
       "<Figure size 432x288 with 1 Axes>"
      ]
     },
     "metadata": {
      "needs_background": "light"
     },
     "output_type": "display_data"
    }
   ],
   "source": [
    "plt.scatter(Om_expect_list, si_expect_list, marker='*')\n",
    "plt.contour(xi, yi, np.reshape(Ps_interp, (ngrid, ngrid)), levels=5)\n",
    "plt.xlim(0.15, 0.5)\n",
    "plt.ylim(0.5, 1.2)"
   ]
  },
  {
   "cell_type": "code",
   "execution_count": 19,
   "metadata": {},
   "outputs": [],
   "source": [
    "### confidence regions\n",
    "# copy of array with nan values masked as 0 \n",
    "Ps_interp_nonan = Ps_interp\n",
    "Ps_interp_nonan[np.isnan(Ps_interp_nonan)] = 0\n",
    "\n",
    "# normalize to total probability = 1\n",
    "norm_factor = np.sum(Ps_interp_nonan)\n",
    "Ps_interp_nonan = Ps_interp_nonan/norm_factor\n",
    "\n",
    "# integrate to get the cdf for the steps specified by values in t \n",
    "t = np.linspace(0, np.max(Ps_interp_nonan), n_intstep)\n",
    "integral = ((Ps_interp_nonan >= t[:, None, None]) * Ps_interp_nonan).sum(axis=(1,2))\n",
    "\n",
    "f = interpolate.interp1d(integral, t)\n",
    "t_contours = f(np.array([0.95, 0.68, 0.04]))    # 0.04 is basically the center point (for filling the contours properly)"
   ]
  },
  {
   "cell_type": "code",
   "execution_count": 20,
   "metadata": {},
   "outputs": [
    {
     "data": {
      "text/plain": [
       "Text(0, 0.5, '$\\\\sigma_8$')"
      ]
     },
     "execution_count": 20,
     "metadata": {},
     "output_type": "execute_result"
    },
    {
     "data": {
      "image/png": "[encoded data removed]",
      "text/plain": [
       "<Figure size 576x576 with 1 Axes>"
      ]
     },
     "metadata": {
      "needs_background": "light"
     },
     "output_type": "display_data"
    }
   ],
   "source": [
    "plt.figure(figsize=[8,8])\n",
    "plt.contourf(xi, yi, np.reshape(Ps_interp_nonan, (ngrid, ngrid)), t_contours, colors=['#93BABA', '#4286A0'])\n",
    "plt.scatter(d[0], d[1], color='black')\n",
    "plt.scatter(Om_expect_list, si_expect_list, marker='x', color='black', s=10)\n",
    "plt.xlim(0.15, 0.5)\n",
    "plt.ylim(0.5, 1.2)\n",
    "plt.xlabel(r'$\\Omega_m$', fontsize=16)\n",
    "plt.ylabel(r'$\\sigma_8$', fontsize=16)"
   ]
  },
  {
   "cell_type": "markdown",
   "metadata": {},
   "source": [
    "## Some testing:"
   ]
  },
  {
   "cell_type": "code",
   "execution_count": 13,
   "metadata": {},
   "outputs": [
    {
     "data": {
      "text/plain": [
       "<matplotlib.contour.QuadContourSet at 0x7f909de1e190>"
      ]
     },
     "execution_count": 13,
     "metadata": {},
     "output_type": "execute_result"
    },
    {
     "data": {
      "image/png": "[encoded data removed]",
      "text/plain": [
       "<Figure size 432x288 with 1 Axes>"
      ]
     },
     "metadata": {
      "needs_background": "light"
     },
     "output_type": "display_data"
    }
   ],
   "source": [
    "# this plot is for d = (0.309, 0.816) like in the paper, just for our reference\n",
    "plt.contour(xi, yi, Pi, levels=15)"
   ]
  },
  {
   "cell_type": "markdown",
   "metadata": {},
   "source": [
    "Very sharply peaked cuz var is small:"
   ]
  },
  {
   "cell_type": "code",
   "execution_count": 14,
   "metadata": {},
   "outputs": [
    {
     "data": {
      "text/plain": [
       "[<matplotlib.lines.Line2D at 0x7f909e0d92e0>]"
      ]
     },
     "execution_count": 14,
     "metadata": {},
     "output_type": "execute_result"
    },
    {
     "data": {
      "image/png": "[encoded data removed]",
      "text/plain": [
       "<Figure size 432x288 with 1 Axes>"
      ]
     },
     "metadata": {
      "needs_background": "light"
     },
     "output_type": "display_data"
    }
   ],
   "source": [
    "# try plotting P against the distance of the points to d to see how fast P drops going away from the center d:\n",
    "rr = [np.linalg.norm(mean_list[i] - d) for i in range(n_cosmo)]\n",
    "plt.plot(rr,P,'.')"
   ]
  },
  {
   "cell_type": "code",
   "execution_count": null,
   "metadata": {},
   "outputs": [],
   "source": []
  },
  {
   "cell_type": "code",
   "execution_count": null,
   "metadata": {},
   "outputs": [],
   "source": []
  }
 ],
 "metadata": {
  "kernelspec": {
   "display_name": "Python [conda env:.conda-torch]",
   "language": "python",
   "name": "conda-env-.conda-torch-py"
  },
  "language_info": {
   "codemirror_mode": {
    "name": "ipython",
    "version": 3
   },
   "file_extension": ".py",
   "mimetype": "text/x-python",
   "name": "python",
   "nbconvert_exporter": "python",
   "pygments_lexer": "ipython3",
   "version": "3.7.7"
  }
 },
 "nbformat": 4,
 "nbformat_minor": 2
}
