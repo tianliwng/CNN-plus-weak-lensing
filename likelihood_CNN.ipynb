{
 "cells": [
  {
   "cell_type": "code",
   "execution_count": 1,
   "metadata": {},
   "outputs": [],
   "source": [
    "from astropy.table import Table\n",
    "import numpy as np\n",
    "import matplotlib.pyplot as plt\n",
    "from scipy.stats import multivariate_normal"
   ]
  },
  {
   "cell_type": "code",
   "execution_count": 2,
   "metadata": {},
   "outputs": [],
   "source": [
    "######################## define constants etc. ############################### \n",
    "\n",
    "workPath = '/n/holyscratch01/dvorkin_lab/Users/tianliwang/'\n",
    "\n",
    "n_cosmo = 90\n",
    "\n",
    "Om_d = 0.309\n",
    "si_d = 0.816 "
   ]
  },
  {
   "cell_type": "code",
   "execution_count": 3,
   "metadata": {},
   "outputs": [],
   "source": [
    "data = np.genfromtxt(workPath+'fullNet_testing_shuffle.dat', names=True, dtype=None)"
   ]
  },
  {
   "cell_type": "code",
   "execution_count": 4,
   "metadata": {},
   "outputs": [],
   "source": [
    "Om_pred = data['Om_pred']\n",
    "si_pred = data['si_pred']\n",
    "Om_expect = data['Om_expect']\n",
    "si_expect = data['si_expect']\n",
    "\n",
    "# split the array into small arrays each corresponding the data from one cosmology (ex. array[0] is an array of all values in one cosmo)\n",
    "Om_expect_split = np.array_split(Om_expect, n_cosmo)\n",
    "Om_pred_split = np.array_split(Om_pred, n_cosmo)\n",
    "si_expect_split = np.array_split(si_expect, n_cosmo)\n",
    "si_pred_split = np.array_split(si_pred, n_cosmo)"
   ]
  },
  {
   "cell_type": "code",
   "execution_count": 35,
   "metadata": {},
   "outputs": [
    {
     "data": {
      "text/plain": [
       "array([[ 4.83841109e-05, -6.60729619e-05],\n",
       "       [-6.60729619e-05,  5.84970176e-04]])"
      ]
     },
     "execution_count": 35,
     "metadata": {},
     "output_type": "execute_result"
    }
   ],
   "source": [
    "np.cov([Om_pred_split[0], si_pred_split[0]])"
   ]
  },
  {
   "cell_type": "code",
   "execution_count": null,
   "metadata": {},
   "outputs": [],
   "source": []
  },
  {
   "cell_type": "code",
   "execution_count": null,
   "metadata": {},
   "outputs": [],
   "source": []
  }
 ],
 "metadata": {
  "kernelspec": {
   "display_name": "Python [conda env:.conda-torch]",
   "language": "python",
   "name": "conda-env-.conda-torch-py"
  },
  "language_info": {
   "codemirror_mode": {
    "name": "ipython",
    "version": 3
   },
   "file_extension": ".py",
   "mimetype": "text/x-python",
   "name": "python",
   "nbconvert_exporter": "python",
   "pygments_lexer": "ipython3",
   "version": "3.7.7"
  }
 },
 "nbformat": 4,
 "nbformat_minor": 2
}
