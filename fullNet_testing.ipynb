{
 "cells": [
  {
   "cell_type": "code",
   "execution_count": 1,
   "metadata": {},
   "outputs": [],
   "source": [
    "from astropy.io import fits\n",
    "from astropy.table import Table\n",
    "import numpy as np\n",
    "import matplotlib.pyplot as plt\n",
    "import matplotlib\n",
    "\n",
    "import torch \n",
    "import torch.nn as nn \n",
    "import torch.nn.functional as F \n",
    "import torch.optim as optim\n",
    "\n",
    "import time\n",
    "import os"
   ]
  },
  {
   "cell_type": "code",
   "execution_count": 27,
   "metadata": {},
   "outputs": [
    {
     "name": "stdout",
     "output_type": "stream",
     "text": [
      "cuda:0\n"
     ]
    }
   ],
   "source": [
    "######################## define constants etc. ############################### \n",
    "\n",
    "device = torch.device(\"cuda:0\" if torch.cuda.is_available() else \"cpu\")\n",
    "print(device)\n",
    "\n",
    "rootpath = '/n/holyscratch01/dvorkin_lab/Users/tianliwang/maps_unzipped/'  # location of maps \n",
    "workPath = '/n/holyscratch01/dvorkin_lab/Users/tianliwang/'\n",
    "#rootpath = '/Volumes/WTL/convergence_maps/All_cosm/'  # <-- Tianli's testing file path\n",
    "#workPath = '/Users/Ed/Desktop/cosm_prjt/'  # path to load the net from and write the predictions in\n",
    "\n",
    "# these parameters are defined in the paper  \n",
    "n_imagespercosmo = 512  # number of images per cosmology \n",
    "n_perbatch = 32         # batch size for training \n",
    "n_perbatch_test = n_perbatch  # the value shoudn't matter but put here in case we need to change things\n",
    "n_batch = n_imagespercosmo/n_perbatch  # number of minibatches \n",
    "dim_image = 1024 \n",
    "dim_downsized = int(dim_image/2)            # downsized image dimension \n",
    "\n",
    "trainFraction = 10.0/16  # fraction of images per cosmology for training \n",
    "validateFraction = 3.0/16\n",
    "testFraction = 1-trainFraction-validateFraction  # needs more cleaning up \n",
    "\n",
    "n_cosmosToTrain = 90  # same for validation and testing\n",
    "n_trainimages = int(n_imagespercosmo*trainFraction)    # number of images per cosmology to train\n",
    "n_validateimages = int(n_imagespercosmo*validateFraction)   # number of images per cosmology to validate\n",
    "n_testimages = int(n_imagespercosmo*testFraction)  # number of images per cosmology to test\n",
    "n_batch_train = int(n_trainimages/n_perbatch)  # number of minibatches per cosmology to train \n",
    "\n",
    "# start and end image indices for training and validating \n",
    "startIndices_train = np.ones(n_cosmosToTrain).astype(int)\n",
    "endIndices_train = n_trainimages*np.ones(n_cosmosToTrain).astype(int)\n",
    "startIndices_validate = (n_trainimages+1)*np.ones(n_cosmosToTrain).astype(int)\n",
    "endIndices_validate = (n_trainimages+n_validateimages)*np.ones(n_cosmosToTrain).astype(int)\n",
    "startIndices_test = (n_trainimages+n_validateimages+1)*np.ones(n_cosmosToTrain).astype(int)\n",
    "endIndices_test = (n_trainimages+n_validateimages+n_testimages)*np.ones(n_cosmosToTrain).astype(int)\n",
    "\n",
    "# print(startIndices_test, endIndices_test)  # shoud be 481 and 512 (just testing)\n",
    "\n",
    "\n",
    "######################## define functions & Class ###############################\n",
    "\n",
    "def read_parametersfromfile(path):\n",
    "    '''\n",
    "    Input: string for the directory to the folders of cosmology \n",
    "    \n",
    "    Function: reads the Omega_m and sigma_8 values from the folder names in \n",
    "    the path directory and store them as arrays of strings. Stores the values \n",
    "    as strings to avoid rounding, for example, 0.600 to 0.6. \n",
    "    \n",
    "    Output: (array of strings of Omega_m, array of strings of sigma_8)\n",
    "    '''\n",
    "    \n",
    "    Om_strings = [] \n",
    "    si_strings = []\n",
    "    \n",
    "    for filename in os.listdir(path):\n",
    "        if (filename.startswith('Om') and not filename.endswith('.gz')): \n",
    "            Om_strings.append(filename[2:7]) \n",
    "            si_strings.append(filename[10:15])\n",
    "            \n",
    "    return Om_strings, si_strings\n",
    "\n",
    "\n",
    "def read_files(path, Oms, sis, start_indices, end_indices): \n",
    "    '''\n",
    "    Input: file root directory path, strings of omegam and sigma8 values, \n",
    "    start image indices and end image indices. Oms, sis, start_indices, end_indices\n",
    "    should be arrays of same length. \n",
    "    \n",
    "    Function: reads the images labeled between start_indices[i] and end_indices[i] (inclusive)\n",
    "    for each of the ith cosmologies specified by omegam and sigma8 values \n",
    "    \n",
    "    Output: numpy array of 3D images\n",
    "    '''\n",
    "    \n",
    "    n_cosmos = len(Oms)  # this should be shared by Oms, sis, start_indices, end_indices \n",
    "    \n",
    "    # read in the files and put them into 3D matrix \n",
    "    filedata = []\n",
    "\n",
    "    for j in range(0, n_cosmos): \n",
    "        i_start = start_indices[j]\n",
    "        i_end = end_indices[j]\n",
    "        Om = Oms[j]\n",
    "        si = sis[j]\n",
    "        \n",
    "        for i in range(i_start, i_end+1): \n",
    "            if (i < 10): filenum = '00{}'.format(i)\n",
    "            elif (i < 100): filenum = '0{}'.format(i)\n",
    "            else: filenum = i \n",
    "\n",
    "            hdulist = fits.open('{}Om{}_si{}/WLconv_z1.00_0{}r.fits'.format(path, Om, si, filenum))\n",
    "            image = hdulist[0].data\n",
    "\n",
    "            # downsize from dim_image to dim_downsized \n",
    "            image_downsized = image.reshape([dim_downsized, dim_image//dim_downsized, \n",
    "                                    dim_downsized, dim_image//dim_downsized]).mean(3).mean(1)\n",
    "\n",
    "            # newaxis makes the image 3D (1x512x512) \n",
    "            filedata.append(image_downsized[np.newaxis,:,:])\n",
    "    \n",
    "    return np.array(filedata)\n",
    "           \n",
    "    \n",
    "def test_cnn(network, testinputs, batchsize, isTrackingloss, **kwargs): \n",
    "    '''\n",
    "    Input: CNN object, testing data, batch size for testing, boolean for whether \n",
    "    to track losses bewteen test ouputs and targets, **kwargs includes the loss function\n",
    "    criterion and the targetting outputs. Target should be in the form of \n",
    "    an array of (omegam, sigma8) parameters each corresponding to the target of one batch. \n",
    "    \n",
    "    Call with \n",
    "    test_cnn(network, testinputs, batchsize, False) \n",
    "    or \n",
    "    test_cnn(network, testinputs, batchsize, True, loss_fn=loss_fn, target=target)\n",
    "    \n",
    "    Function: Run the network with test inputs and specified batch size and track loss as \n",
    "    requested in torch.no_grad() environment. \n",
    "    \n",
    "    Output: \n",
    "    If isTrackingloss is True, return (np array of predicted outputs, np array of losses for each batch)\n",
    "    If isTrackingloss is False, return np array of predicted outputs\n",
    "    '''\n",
    "    \n",
    "    # unpack optional arguments **kwargs \n",
    "    if (isTrackingloss): \n",
    "        loss_fn = kwargs.get('loss_fn', None)\n",
    "        testtargets = kwargs.get('target', None)\n",
    "        losses = []\n",
    "    \n",
    "    # make the data into 4D tensor and put each batch into iterable \n",
    "    testloader = torch.utils.data.DataLoader(testinputs, batch_size=batchsize, shuffle=False)\n",
    "    \n",
    "    predictions = []  # stores outputs of network with test data inputs \n",
    "    \n",
    "    with torch.no_grad(): \n",
    "        for i, testdata in enumerate(testloader, 0):\n",
    "            testdata = testdata.to(device)  # GPU\n",
    "            testoutputs = network(testdata)\n",
    "            \n",
    "            predictions = predictions + testoutputs.cpu().tolist()\n",
    "\n",
    "            if (isTrackingloss): \n",
    "                testtarget = torch.tensor(testtargets[i]).repeat(batchsize, 1)  \n",
    "##                print(testtarget)\n",
    "                testtarget = testtarget.to(device)  # GPU\n",
    "                loss = np.array([(loss_fn(testoutputs[i], testtarget[i])).cpu() for i in range(batchsize)])\n",
    "                losses.append(loss)\n",
    "##                print(loss)\n",
    "    \n",
    "    if (isTrackingloss): \n",
    "        return np.array(predictions), np.array(losses)\n",
    "    \n",
    "    return np.array(predictions)"
   ]
  },
  {
   "cell_type": "code",
   "execution_count": 3,
   "metadata": {},
   "outputs": [],
   "source": [
    "# network structure \n",
    "\n",
    "def conv_block(in_f, out_f, *args, **kwargs):\n",
    "    return nn.Sequential(\n",
    "        nn.Conv2d(in_f, out_f, *args, **kwargs),\n",
    "        nn.BatchNorm2d(out_f),\n",
    "        nn.ReLU()\n",
    "    )\n",
    "\n",
    "class Net (nn.Module):\n",
    "    def __init__(self):\n",
    "        super(Net, self).__init__()\n",
    "        \n",
    "        self.cnn_layers = nn.Sequential(\n",
    "            # layers 1+2 \n",
    "            conv_block(1, 32, kernel_size=3), \n",
    "            conv_block(32, 32, kernel_size=3), \n",
    "            nn.AvgPool2d(2, 2), \n",
    "            # layers 3+4\n",
    "            conv_block(32, 64, kernel_size=3), \n",
    "            conv_block(64, 64, kernel_size=3), \n",
    "            nn.AvgPool2d(2, 2), \n",
    "            # layers 5-7 \n",
    "            conv_block(64, 128, kernel_size=3),\n",
    "            conv_block(128, 64, kernel_size=1),\n",
    "            conv_block(64, 128, kernel_size=3),\n",
    "            nn.AvgPool2d(2, 2),\n",
    "            # layers 8-10 \n",
    "            conv_block(128, 256, kernel_size=3),\n",
    "            conv_block(256, 128, kernel_size=1),\n",
    "            conv_block(128, 256, kernel_size=3),\n",
    "            nn.AvgPool2d(2, 2),\n",
    "            # layers 11-13 \n",
    "            conv_block(256, 512, kernel_size=3),\n",
    "            conv_block(512, 256, kernel_size=1),\n",
    "            conv_block(256, 512, kernel_size=3),\n",
    "            nn.AvgPool2d(2, 2),\n",
    "            # layers 14-18 \n",
    "            conv_block(512, 512, kernel_size=3),\n",
    "            conv_block(512, 256, kernel_size=1),\n",
    "            conv_block(256, 512, kernel_size=3),\n",
    "            conv_block(512, 256, kernel_size=1),\n",
    "            nn.Conv2d(256, 512, kernel_size=3),\n",
    "            nn.ReLU(),             # no batch norm on last convolution layer \n",
    "            nn.AvgPool2d(6, 6)\n",
    "        )\n",
    "        \n",
    "        self.fc = nn.Linear(512, 2)\n",
    "\n",
    "    def forward(self, x):\n",
    "        x = self.cnn_layers(x)\n",
    "        x = x.view(-1, 512)\n",
    "        x = self.fc(x)\n",
    "        \n",
    "        return x"
   ]
  },
  {
   "cell_type": "code",
   "execution_count": 28,
   "metadata": {},
   "outputs": [
    {
     "name": "stdout",
     "output_type": "stream",
     "text": [
      "--- Time to load the test files: 520.917245388031 seconds ---\n"
     ]
    }
   ],
   "source": [
    "# read in all the omegam and sigma8 values from the directory \n",
    "Omegam_strings, sigma8_strings = read_parametersfromfile(rootpath)\n",
    "\n",
    "Omegastrings_test = Omegam_strings[:n_cosmosToTrain]\n",
    "sigmastrings_test = sigma8_strings[:n_cosmosToTrain]\n",
    "Omegas_test = np.array(Omegastrings_test).astype(np.float)\n",
    "sigmas_test = np.array(sigmastrings_test).astype(np.float)\n",
    "\n",
    "start_time = time.time()  \n",
    "inputs_test = read_files(rootpath, Omegastrings_test, sigmastrings_test, \n",
    "                             startIndices_test, endIndices_test)\n",
    "print(\"--- Time to load the test files: %s seconds ---\" % (time.time() - start_time), flush=True)"
   ]
  },
  {
   "cell_type": "code",
   "execution_count": 29,
   "metadata": {},
   "outputs": [
    {
     "data": {
      "text/plain": [
       "<All keys matched successfully>"
      ]
     },
     "execution_count": 29,
     "metadata": {},
     "output_type": "execute_result"
    }
   ],
   "source": [
    "net = Net()\n",
    "net.to(device)  #GPU\n",
    "path_net = workPath+'fullNet_gpu_90Cosmo_30epoch.pth'\n",
    "#net.load_state_dict(torch.load(path_net, map_location=torch.device('cpu')))  # delet the cpu option\n",
    "net.load_state_dict(torch.load(path_net))"
   ]
  },
  {
   "cell_type": "code",
   "execution_count": 30,
   "metadata": {},
   "outputs": [
    {
     "name": "stdout",
     "output_type": "stream",
     "text": [
      "--- Testing time: 36.80047869682312 seconds ---\n"
     ]
    }
   ],
   "source": [
    "# Testing\n",
    "\n",
    "criterion = nn.L1Loss()  # MAE loss \n",
    "\n",
    "start_time = time.time() \n",
    "\n",
    "n_batch_test = int(n_testimages/n_perbatch_test)\n",
    "targets_temp = np.concatenate((np.array([Omegas_test]).T, np.array([sigmas_test]).T), axis=1) # temp stacked targets of all comsos being trained\n",
    "targets_test = np.repeat(targets_temp, n_batch_test, axis=0)  # repeat each set of parameters by the number of batches\n",
    "#outputs_test = test_cnn(net, inputs_test, n_perbatch_test, False)  # not tracking loss\n",
    "outputs_test, losses_test = test_cnn(net, inputs_test, n_perbatch_test, True, loss_fn=criterion, target=targets_test)    \n",
    "\n",
    "print(\"--- Testing time: %s seconds ---\" % (time.time() - start_time), flush=True)"
   ]
  },
  {
   "cell_type": "code",
   "execution_count": 31,
   "metadata": {},
   "outputs": [],
   "source": [
    "Om_predict = outputs_test[:,0]\n",
    "si_predict = outputs_test[:,1]\n",
    "expected_outputs = np.repeat(targets_test, n_perbatch_test, axis=0)\n",
    "\n",
    "Om_predictavg = np.reshape(Om_predict, (-1, n_testimages)).mean(axis=-1)\n",
    "si_predictavg = np.reshape(si_predict, (-1, n_testimages)).mean(axis=-1)"
   ]
  },
  {
   "cell_type": "code",
   "execution_count": 36,
   "metadata": {},
   "outputs": [],
   "source": [
    "t = Table([Om_predict, si_predict, expected_outputs[:,0], expected_outputs[:,1], np.ndarray.flatten(losses_test)], \n",
    "          names=('Om_pred', 'si_pred', 'Om_expect', 'si_expect', 'Losses'))\n",
    "#t.write(workPath+'fullNet_testing.dat', format='ascii', overwrite=True)"
   ]
  },
  {
   "cell_type": "code",
   "execution_count": 64,
   "metadata": {},
   "outputs": [],
   "source": [
    "#print(Om_predict)\n",
    "#print(si_predict)\n",
    "#print(expected_outputs[:,0])\n",
    "#print(expected_outputs[:,1])"
   ]
  },
  {
   "cell_type": "code",
   "execution_count": 68,
   "metadata": {},
   "outputs": [
    {
     "data": {
      "text/plain": [
       "Text(0, 0.5, '$\\\\Omega_{\\\\rm{m}}$ predicted')"
      ]
     },
     "execution_count": 68,
     "metadata": {},
     "output_type": "execute_result"
    },
    {
     "data": {
      "image/png": "[encoded data removed]",
      "text/plain": [
       "<Figure size 432x288 with 1 Axes>"
      ]
     },
     "metadata": {
      "needs_background": "light"
     },
     "output_type": "display_data"
    }
   ],
   "source": [
    "x = np.arange(0.1, 0.8, 0.1)\n",
    "plt.plot(x, x)\n",
    "plt.scatter(Omegas_test, Om_predictavg)\n",
    "plt.xlabel(r'$\\Omega_{\\rm{m}}$ simulation')\n",
    "plt.ylabel(r'$\\Omega_{\\rm{m}}$ predicted')"
   ]
  },
  {
   "cell_type": "code",
   "execution_count": 69,
   "metadata": {},
   "outputs": [
    {
     "data": {
      "text/plain": [
       "Text(0, 0.5, '$sigma_8$ predicted')"
      ]
     },
     "execution_count": 69,
     "metadata": {},
     "output_type": "execute_result"
    },
    {
     "data": {
      "image/png": "[encoded data removed]",
      "text/plain": [
       "<Figure size 432x288 with 1 Axes>"
      ]
     },
     "metadata": {
      "needs_background": "light"
     },
     "output_type": "display_data"
    }
   ],
   "source": [
    "x = np.arange(0.1, 1.3, 0.1)\n",
    "plt.plot(x, x)\n",
    "plt.scatter(sigmas_test, si_predictavg)\n",
    "plt.xlabel(r'$\\sigma_8$ simulation')\n",
    "plt.ylabel(r'$sigma_8$ predicted')"
   ]
  },
  {
   "cell_type": "code",
   "execution_count": null,
   "metadata": {},
   "outputs": [],
   "source": []
  }
 ],
 "metadata": {
  "kernelspec": {
   "display_name": "Python [conda env:.conda-torch]",
   "language": "python",
   "name": "conda-env-.conda-torch-py"
  },
  "language_info": {
   "codemirror_mode": {
    "name": "ipython",
    "version": 3
   },
   "file_extension": ".py",
   "mimetype": "text/x-python",
   "name": "python",
   "nbconvert_exporter": "python",
   "pygments_lexer": "ipython3",
   "version": "3.7.7"
  }
 },
 "nbformat": 4,
 "nbformat_minor": 4
}
